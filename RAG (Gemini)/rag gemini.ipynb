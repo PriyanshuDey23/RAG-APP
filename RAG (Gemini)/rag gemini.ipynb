{
 "cells": [
  {
   "cell_type": "code",
   "execution_count": 1,
   "id": "7d49c22a-1ad0-4395-b93b-aa95660aa026",
   "metadata": {},
   "outputs": [],
   "source": [
    "from langchain_community.document_loaders import PyPDFLoader\n",
    "\n",
    "loader = PyPDFLoader(\"transformer.pdf\")\n",
    "data = loader.load()  "
   ]
  },
  {
   "cell_type": "code",
   "execution_count": 2,
   "id": "9672410a",
   "metadata": {},
   "outputs": [
    {
     "data": {
      "text/plain": [
       "[Document(metadata={'source': 'transformer.pdf', 'page': 0}, page_content=\"Transformer   \\nelectrical  transformer  is a static  electrical  machine  which transforms electrical power from one circuit to \\nanother circuit, without changing the frequency. Transformer can increase or decrease the voltage with \\ncorresponding decrease or increase in current.  \\nWorking principle of transformer  \\n \\n The basic  principle  behind  working  of a transformer  is the phenomenon of mutual induction between two \\nwindings linked by common magnetic flux. The figure at right shows the simplest form of a transformer. \\nBasically a transformer consists of two inductive coils; primary winding and secondary winding. The coils are \\nelectrically separated but magnetically linked to ea ch other. When, primary winding is connected to a source of \\nalternating voltage, alternating  magnetic  flux is produced  around  the winding . The core provides magnetic  path \\nfor the flux, to get linked with the secondary winding. Most of the flux gets linked with the secondary winding \\nwhich is called as 'useful flux' or main 'flux', and the flux which does not get linked with secondary winding is \\ncalled as 'leakage flux' .  As the flux produced is alternating (the direction of it is continuously changing), EMF \\ngets induced in the secondary winding according to  Faraday's  law of electrom agnetic  induction . This emf is \\ncalled 'mutually induced emf', and the frequency of mutually induced emf is same as that of supplied emf. If the \\nsecondary winding is closed circuit, then mutually induced current flows through it, and hence the electrical \\nenergy is transferred from one circuit (primary) to another circuit (secondary).  \\n \\nBasic construction of transformer  \\nBasically a transformer consists of two inductive windings and a laminated steel core. The coils are insulated \\nfrom each other as well as from  the steel core. A transformer may also consist of a container for winding and \\ncore assembly (called as tank), suitable bushings to take our the terminals, oil conservator to provide oil in the \\ntransformer tank for cooling purposes etc. The figure at left illustrates the basic construction of a transformer.  \\n In all types of transformers, core is constructed by assembling (stacking) laminated sheets of steel, with \\nminimum air -gap between them (to achieve continuous magnetic path). The steel used is having hi gh silicon \\ncontent and sometimes heat treated, to provide high permeability and low hysteresis loss. Laminated sheets of \\nsteel are used to reduce eddy current loss. The sheets are cut in the shape as E,I and L. To avoid high reluctance \\n\"),\n",
       " Document(metadata={'source': 'transformer.pdf', 'page': 1}, page_content='at joints, laminatio ns are stacked by alternating the sides of joint. That is, if joints of first sheet assembly are at \\nfront face, the joints of following assemble are kept at back face.  \\n \\n \\nTypes of transformers  \\nTransformers can be classified on different basis, like types of construction, types of cooling etc.  \\n \\n(A) On the basis  of construction , transformers can be classified into two types as;  \\n(i) Core type transformer and (ii) Shell type transformer, which are described below.  \\n \\n(i) Core type transformer  \\nIn core typ e transformer, windings are cylindrical former wound, mounted on   the core limbs as shown in the \\nfigure above. The cylindrical coils have different layers and each layer is insulated from each other. Materials \\nlike paper, cloth or mica can be used for insu lation. Low voltage windings are placed nearer to the core, as they \\nare easier to insulate.  \\n'),\n",
       " Document(metadata={'source': 'transformer.pdf', 'page': 2}, page_content=\"(ii) Shell type transformer  \\nThe coils are former wound and mounted in layers stacked with insulation between them. A shell type \\ntransformer may have simple rectangu lar form (as shown in above fig), or   it may have a distributed form.  \\n \\n(B) On the basis of their purpose  \\n1. Step up transformer: Voltage increases (with subsequent decrease in current) at secondary.  \\n2. Step down transformer: Voltage decreases (with subsequent increase in current) at secondary.  \\n \\n(C) On the basis of type of supply  \\n1. Single phase transformer  \\n2. Three phase transformer  \\n3.  \\n(D) On the basis of their use  \\n1. Power transformer: Used in  transmission  network , high rating  \\n2. Distribution transformer: Used in  distribution  network , comparatively lower rating than that of power \\ntransformers.  \\n3. Instrument transformer: Used in relay and protection purpose in different instrume nts in industries  \\n▪  Current transformer (CT)  \\n▪ Potential transformer (PT)  \\n▪  \\nOpen circuit and Short circuit Test on transformer  \\nThese two  transformer  tests are performed to find the parameters of  equivalent  circui t of transformer  and losses  \\nof the transformer . Open  circuit  test and short  circuit  test on transformer  are very economical and convenient \\nbecause they are perfor med without actually loading of the transformer.  \\n \\nOpen circuit or No load test on Transformer  \\n \\nOpen circuit test or no load test on a transformer is performed to determine 'no load loss (core loss)' and 'no load \\ncurrent I 0'. The  circuit  diagram  for open  circuit  test is shown in the figure below.  \\n \\nUsually high voltage (HV) winding is kept open and the low voltage (LV) winding is connected to its normal \\nsupply. A wattmeter (W), ammeter (A) and voltmeter (V) are connected to the LV winding as shown in the \\n\"),\n",
       " Document(metadata={'source': 'transformer.pdf', 'page': 3}, page_content='figure. Now, applied voltage is slowly increas ed from zero to normal rated value of the LV side with the help of \\na variac. When the applied voltage reaches to the rated value of the LV winding, readings from all the three \\ninstruments are taken.  \\nThe ammeter reading gives the no load current I 0. As I 0 itself is very small, the voltage drops due to this current \\ncan be neglected.  \\nThe input power is indicated by the wattmeter (W). And as the other side of transformer is open circuited, there \\nis no output power. Hence, this input power only consists of core losses and copper losses. As described above, \\nno-load current is so small that these copper losses can be neglected. Hence, now the input power is almost \\nequal to the core losses. Thus, the wattmeter reading gives the core losses of the transformer.  \\nSometi mes, a high resistance voltmeter is connected across the HV winding. Though, a voltmeter is connected, \\nHV winding can be treated as open circuit as the current through the voltmeter is negligibly small. This helps in \\nto find  voltage  transformation  ratio (K). \\nThe two components of no load current can be given as,  \\n \\nIμ = I0sinΦ 0   and    Iw = I0cosΦ 0. \\ncosΦ 0 (no load power factor) = W / (V 1I0). ... (W = wattmeter reading)  \\n \\nFrom this, shunt parameters of equivalent circuit parameters of  equivalent  circuit  of transformer  (X0 and R 0) can \\nbe calculated as  \\n \\nX0 = V 1/Iμ  and  R0 = V 1/Iw. \\n \\n(These values are referring to LV side of the transformer.)  \\nHence, it is seen that  open  circuit  test gives core losses of transformer and shunt parameters of the equivalent \\ncircuit.  \\n \\nShort circuit or Impedance test on Transformer  \\n \\nThe connection  diagram  for short  circuit  test or impedance test on transformer is as shown in the figure \\nbelow. The LV side of transformer is short circuited and wattmeter (W), voltmere (V) and ammeter (A) are \\nconnected on the HV side of the transformer. Volta ge is applied to the HV side and increased from the zero \\nuntil the ammeter reading equals the rated current. All the readings are taken at this rated current.  \\nThe ammeter reading gives primary equivalent of full load current (I sc). \\nThe voltage applied for full load current is very small as compared to rated voltage. Hence, core loss due to \\nsmall applied voltage can be neglected. Thus, the wattmeter reading can be taken as copper loss in the \\ntransformer.  \\nTherefore, W = I sc2Req....... (where R eq is the equivalent resistance of transformer)  \\n Zeq = V sc/Isc. \\nTherefore, equivalent reactance of transformer can be calculated from the formula   Zeq2 = R eq2 + X eq2. \\nThese, values are referred to the HV side of the transformer.  \\nHence, it is seen that the shor t circuit test gives copper losses of transformer and approximate equivalent '),\n",
       " Document(metadata={'source': 'transformer.pdf', 'page': 4}, page_content=\"resistance and reactance of the transformer.  \\n \\nWhy Transformers are rated in kVA?  \\nFrom the above transformer tests, it can be seen that  Cu loss of a transformer  depends on current, and \\niron loss depends on voltage. Thus, total transformer loss depends on volt -ampere (VA). It does not \\ndepend on the p hase angle between voltage and current, i.e. transformer loss is independent of load \\npower factor. This is the  reason  that transformers  are rated  in kVA . \\nLosses in transformer  \\n \\nIn any  electrical  machine , 'loss' can be defined as the difference between input power and output power. \\nAn electrical  transformer  is an static  device , hence mechanical losses (like windage or friction losses) are absent \\nin it. A transformer only consists of electrical losses (iron losses and copper losses). Transformer losses are \\nsimilar to  losses  in a DC machine , except that transformers do not have mechanical losses.  \\nLosses  in transformer  are explained below - \\n \\n(i) Core losses or Iron losses  \\nEddy current loss and hysteresis los s depend upon the magnetic properties of the material used for the \\nconstruction of core. Hence these losses are also known as  core losses  or iron losses . \\n▪ Hysteresis  loss in transformer : Hysteresis loss is due to reversal of magnetization in the transformer core. \\nThis loss depends upon the volume and grade of the iron, frequency of magnetic reversals and value of flux \\ndensity. It can be given by, Steinmetz formula:  \\nWh= ηB max1.6fV (watts)  \\nwhere,   η = Steinmetz hysteresis constant  \\n             V = volume of the core in m3 \\n▪ Eddy  current  loss in transformer : In transformer, AC current is supplied to the primary winding which \\nsets up alternating magnetizing flux. When this flux links with secondary winding, it produces induced emf \\nin it. But some part of this flux also gets linked with other conducting parts like steel core or iron body or \\nthe transformer, which will result in induced emf in those parts, causing small circulating current in them. \\nThis current is called as eddy current. Due to these eddy currents, some energy will be dissipated in the form \\nof heat. \\n (ii) Copper loss in transformer  \\nCopper loss is due to ohmic resistance of the transformer windings.   Copper loss for the primary winding is \\nI12R1 and for secondary winding is I 22R2. Where, I 1 and I 2 are current in primary and secondary winding \\n\"),\n",
       " Document(metadata={'source': 'transformer.pdf', 'page': 5}, page_content='respec tively, R 1 and R 2 are the resistances of primary and secondary winding respectively. It is clear that Cu \\nloss is proportional to square of the current, and current depends on the load. Hence copper loss in transformer \\nvaries with the load.  \\n \\nEfficiency of T ransformer  \\n \\nJust like any other electrical machine,  efficiency  of a transformer  can be defined as the output power divided \\nby the input power. That is   efficiency  = output  / input  . \\nTransformers are the most highly efficient electrical devices. Most of the transformers have full load efficiency \\nbetween 95% to 98.5% . As a transformer being highly efficient, output and input are having nearly same value, \\nand hence it is impractical to measure the efficiency of transformer by using output / input. A better  method to \\nfind efficiency of a transformer is using,  efficiency  = (input  - losses)  / input  = 1 - (losses  / input).  \\nCondition for maximum efficiency  \\nLet, \\nCopper loss = I12R1  \\nIron loss = Wi  \\n \\n'),\n",
       " Document(metadata={'source': 'transformer.pdf', 'page': 6}, page_content='Hence,  efficiency  of a transformer  will be maximum when copper lo ss and iron losses are equal.  \\nThat is Copper loss = Iron loss.  \\nAll day efficiency of transformer  \\n \\nAs we have seen above, ordinary or commercial efficiency of a transformer can be given as  \\n \\n \\nBut in some types of transformers, their performance can not be judged by this efficiency. For example, \\ndistribution transformers have their primaries energized all the time. But, their secondaries supply little load all \\nno-load most of the time during day  (as residential use of electricity is observed mostly during evening till \\nmidnight).  \\nThat is, when secondaries of transformer are not supplying any load (or supplying only little load), then only \\ncore losses of transformer are considerable and copper loss es are absent (or very little). Copper losses are \\nconsiderable only when transformers are loaded. Thus, for such transformers copper losses are relatively less \\nimportant.   The performance of such transformers is compared on the basis of energy consumed in one day.  \\n \\nAll day efficiency  of a transformer  is always less than ordinary efficiency of it  \\nEMF equation of a transformer and Voltage Transformation Ratio  \\n \\nIn a transf ormer , source of alternating current is applied to the primary winding. Due to this, the current in the \\nprimary winding (called as magnetizing current) produces alternating flux in the core of transformer. This \\nalternating flux gets linked with the secondary winding, and because of the phenomenon of  mutual  induction  an \\nemf gets induced in the secondary winding. Magnitude of this induced emf can be found by using the \\nfollowing  EMF  equation  of the transformer . \\nEMF equation of the Transformer  \\nLet, \\nN1 = Number of turns in primary winding  \\nN2 = Number of turns in secondary winding  \\nΦm = Maximum flux in the core (in Wb) = (B m x A) \\nf = frequency of the AC supply (in Hz)  \\n'),\n",
       " Document(metadata={'source': 'transformer.pdf', 'page': 7}, page_content=' \\n \\nAs, shown in the fig., the flux rises sinusoidally to its maximum value Φ m from 0. It reaches to the maximum \\nvalue in one quarter of the cycle i.e in T/4 sec (where, T is time period of the sin wave of the supply = 1/f).  \\nTherefore,  \\naverage rate of change  of flux =  Φm /(T/4)    = Φm /(1/4f) \\nTherefore,  \\naverage rate of change of flux = 4f Φ m       ....... (Wb/s).  \\nNow,  \\nInduced emf per turn = rate of change of flux per turn  \\n \\nTherefore, average emf per turn = 4f Φ m   ..........(Volts).  Now, we know,   Form factor = RMS value / average \\nvalue  \\nTherefore, RMS value of emf per turn = Form factor  X average emf per turn.  \\n \\nAs, the flux Φ varies sinusoidally, form factor of a sine wave is 1.11  \\nTherefore, RMS value of emf per turn =   1.11 x 4f Φ m = 4.44f Φ m. \\nRMS value of induced emf in whole primary winding (E 1) = RMS value of emf per turn  X Number of turns in \\nprimary winding  \\n \\n          E1 = 4.44f N 1 Φm          ............................. eq 1  \\nSimilarly, RMS induced emf in secondary windi ng (E 2) can be given as  \\n \\n          E2 = 4.44f N 2 Φm.          ............................ eq 2  \\n \\nfrom the above equations 1 and 2,  \\n \\nThis is called the  emf equation  of transformer , which shows, emf  / number of turns is same for both primary \\nand secondary winding.  \\n \\n'),\n",
       " Document(metadata={'source': 'transformer.pdf', 'page': 8}, page_content='For an  ideal  transformer  on no load, E 1 = V 1 and E 2 = V 2 . \\nwhere, V 1 = supply voltage of primary winding  \\n            V2 = terminal voltage of secondary winding  \\nVoltage Transformation Ratio (K)  \\nAs derived above,  \\n \\nWhere, K = constant  \\nThis constant K is known as  voltage  transformation  ratio . \\n \\n▪ If N 2 > N 1, i.e. K > 1, then the transformer is called step -up transformer.  \\n▪ If N 2 < N 1, i.e. K < 1, then the transformer is called step -down transformer.  \\n▪  \\nEquivalent circuit of Transformer  \\n \\nn a practical  transformer  - \\n(a) Some  leakage  flux is present at both primary and seco ndary sides. This leakage gives rise to leakage \\nreactances at both sides, which are denoted as X 1 and X 2 respectively.  \\n(b) Both the primary and secondary winding possesses resistance, denoted as R 1 and R 2 respectively. These \\nresistances causes  voltage drop as, I 1R1 and I 2R2 and also  copper  loss I12R1 and I 22R2. \\n(c) Permeability of the core can not be infinite, hence some magnetizing current is needed. M utual flux also \\ncauses  core loss in iron parts of the transformer.  \\nEquivalent  circuit  of transformer  \\n \\nResistances  and reactances  of transformer , which are described above, can be imagined separately from the \\nwindings (as shown in the figure below). Hence, the f unction of windings, thereafter, will only be the \\ntransforming the voltage.  \\n \\nThe no load current I 0 is divided into, pure inductance X 0 (taking magnetizing components I μ) and non \\ninduction resistance R 0 (taking working component I w) which are connected into parallel across the primary. \\n'),\n",
       " Document(metadata={'source': 'transformer.pdf', 'page': 9}, page_content=\"The value of E 1 can be obtained by subtracting I 1Z1 from V 1. The value of R 0 and X 0 can be calculated as, R 0 = \\nE1 / Iw and X 0 = E 1 / Iμ. \\nBut, using this equivalent circuit  does not simplifies the calculations. To make calculations simpler, it is \\npreferable to transfer current, voltage and impedance either to primary side or to the secondary side. In that \\ncase, we would have to work with only one winding which is more conven ient. \\n \\nFrom the voltage transformation ratio, it is clear that,  \\nE1 / E2 = N 1 / N2 = K \\n \\nNow, lets refer the parameters of secondary side to primary.  \\nZ2 can be referred to primary as Z 2' \\nwhere, Z 2' = (N 1/N2)2Z2 = K2Z2.   ............where K= N 1/N2. \\nthat is, R 2'+jX 2' = K2(R2+jX 2) \\nequating real and imaginary parts,  \\nR2' =  K2R2 and X 2' = K2X2 . \\nAnd V 2' = KV 2 \\nThe following figure shows the  equivalent  circuit  of transformer  with  secondary  parameters  referred  to \\nthe primary . \\n \\nNow, as the values of winding resistance and leakage reactance are so small that, V 1 and E 1 can be assumed to \\nbe equal. Therefore, the exciting current drawn by the parallel combination of   R0 and X 0 would not affect \\nsignificantly, if we move it to the input terminals as shown in the figure below.  \\n \\n\"),\n",
       " Document(metadata={'source': 'transformer.pdf', 'page': 10}, page_content=\" \\nNow, let R 1 + R 2' = R'eq   and X 1 + X 2' = X'eq  \\nThen the  equivalent  circuit  of transformer  becomes as shown in the figure below  \\n \\nApproximate equivalent circuit of transformer  \\nIf only voltage regulation is to be calculated, then even the whole excitation branch (parallel combination of R0 \\nand X0) can be neglected. Then the equivalent circuit becomes as shown in the figure below  \\n \\nTransformer on No Load Condition  \\nWhen the transformer is operating at no load, the secondary winding i s open -circuited, which means there is no \\nload on the secondary side of the transformer and, therefore, current in the secondary will be zero. While \\nprimary winding carries a small current I 0 called no -load current which is  2 to 10% of the rated current . \\nThis current is responsible for supplying the iron losses (hysteresis and eddy current losses) in the core and a \\nvery small amount of copper losses in the primary winding. The angle of lag depends upon the losses in the \\ntransformer. The power fact or is very low and varies from  0.1 to 0.15 . \\n\"),\n",
       " Document(metadata={'source': 'transformer.pdf', 'page': 11}, page_content='The no -load current consists of two \\ncomponents:  \\n• Reactive or magnetizing component I m \\n(It is in quadrature with the applied voltage V 1. It produces flux in the core and does not consume any power).  \\n• Active or power component I w, also know as a working component  \\n(It is in phase with the applied voltage V 1. It supplies the iron losses and a small amount of primary copper \\nloss).  \\nThe following steps are given below to draw the phasor diagram:  \\n1. The function  of the magnetizing component is to produce the magnetizing flux, and thus, it will be in phase \\nwith the flux.  \\n2. Induced emf in the primary and the secondary winding lags the flux ϕ by 90 degrees.  \\n3. The primary copper loss is neglected, and secondary current l osses are zero as  \\nI2 = 0. \\nTherefore, the current I 0 lags behind the voltage vector V 1 by an angle ϕ 0 called the no -load power factor angle \\nand is shown in the phasor diagram above.  \\n4. The applied voltage V 1 is drawn equal and opposite to the induced emf E 1 because the difference between the \\ntwo, at no load, is negligible.  \\n5. Active component I w is drawn in phase with the applied voltage V 1. \\n6. The phasor sum of magnetizing current I m and the working current I w gives the no -load current I 0. \\n'),\n",
       " Document(metadata={'source': 'transformer.pdf', 'page': 12}, page_content='7. From the phasor  diagram drawn above, the following \\nconclusions are made  \\nTransformer On Load Condition  \\nWhen the transformer is on the loaded condition, the secondary of the transformer is connected to load. The \\nload can be resistive, inductive or capacitive. The current I2 flows through the secondary winding of the \\ntransformer. The magnitude of the secondary current depends on the terminal voltage V 2 and the load \\nimpedance. The phase angle between the secondary current and voltage depends on the nature of the load.  \\nOperation of the Transformer on Load Condition  \\nThe Operation of the Transformer on Load Condition is explained below:  \\n• When the secondary of the transformer is kept open, it draws the no -load current from the main supply. The no -\\nload current induces the magnetomotive force N 0I0 and this force set up the flux Φ in the core of the \\ntransformer. The circuit of the transformer at no load condition is shown in the figure below:  \\n'),\n",
       " Document(metadata={'source': 'transformer.pdf', 'page': 13}, page_content='•  \\no When the load is connected to the secondary of the transformer, I 2 current flows through their secondary \\nwinding. The secondary current induces the magnetomotive force N 2I2 on the secondary winding of th e \\ntransformer. This force set up the flux φ 2 in the transformer core. The flux φ 2 opposes the flux φ, according \\nto Lenz’s law . \\n \\n▪ As the flux φ 2 opposes the flux φ, the resultant flux of the transformer decreases and this flux reduces the \\ninduced EMF E 1. Thus, the strength of the V 1 is more than E 1 and an additional primary current I’ 1 drawn from \\nthe main supply.  \\nThe additional current is used for restoring the original value of the flux in the core of the transformer so that \\nV1 = E 1. The primary current I’ 1 is in phase opposition with the secondary current I 2. Thus, it is called \\nthe primary counter -balancing current . \\n▪ The additional current I’ 1 induces the magnetomotive force N 1I’1. And this force set up the flux φ’ 1. The \\ndirection of the flux is the same as that of the φ and it cancels the flux φ 2 which induces because of the MMF \\nN2I2 \\n'),\n",
       " Document(metadata={'source': 'transformer.pdf', 'page': 14}, page_content='Now, N 1I1’ = N 2I2 \\nTherefore,  \\n• The phase difference between V 1 and I 1 gives the power factor angle ϕ 1 of the primary side of the transformer.  \\n• The power factor of the secondary  side depends upon the type of load connected to the transformer.  \\n• If the load is inductive as shown in the above phasor  diagram, the power factor will be lagging, and if the load is \\ncapacitive, the power factor will be leading. The total primary current I 1 is the vector sum of the currents I 0 and \\nI1’. i.e \\n \\nPhasor Diagram of Transformer on Inductive Load  \\nThe phasor diagram  of the actual transformer when it is loaded inductively is shown below:  \\n \\n'),\n",
       " Document(metadata={'source': 'transformer.pdf', 'page': 15}, page_content='Phasor Diagram of the Transformer on Inductive Load  \\nSteps to draw the phasor diagram  \\n• Take flux ϕ, a reference  \\n• Induces emf E 1 and E 2 lags the flux by 90 degrees.  \\n• The component of the applied voltage to the primary equal and opposite to induced emf in the primary winding. \\nE1 is represented by V 1’. \\n• Current I 0 lags the voltage V 1’ by 90 degrees.  \\n• The power factor of the load is lagging. Therefore current I 2 is drawn lagging E 2 by an angle ϕ 2. \\n• The resistance and the leakage reactance of the windings result in a voltage drop, and hence secondary terminal \\nvoltage V 2 is the phase difference of E 2 and voltage drop.  \\nV2 = E 2 – voltage drops  \\nI2 R2 is in phase with I 2 and I2X2 is in quadrature with I 2. \\n• The total current flowing in the primary winding is the phasor sum of I 1’ and I 0. \\n• Primary applied voltage V 1 is the phasor sum of V 1’ and the voltage drop in the primary winding.  \\n• Current I 1’ is drawn equal and opposite to t he current I 2 \\nV1 = V 1’ + voltage drop  \\nI1R1 is in phase with I 1 and I 1XI is in quadrature with I 1. \\n• The phasor difference between V 1 and I 1 gives the power factor angle ϕ 1 of the primary side of the transformer.  \\n• The power factor of the secondary side depends upon the type of load connected to the transformer.  \\n• If the load is inductive as shown in the above phasor diagram, the power factor will be lagging, and if the load is \\ncapacitive, the power factor will be leading.        Where I 1R1 is the resistive drop in the primary windings  \\nI2X2 is the reactive drop in the secondary winding  \\nSimilarly  \\nPhasor Diagram of Transformer on Capacitive Load  \\nThe Transformer on the Capacitive  load (leading power factor load) is shown below in the phasor diagram.  \\nSteps to draw the phasor diagram at capacitive load  \\n• Take flux ϕ a reference  \\n• Induces emf E 1 and E 2 lags the flux by 90 degrees.  \\n• The component of the applied voltage to the primary equal and opposite to induced emf in the primary winding. \\nE1 is represented by V 1’. \\n• Current I 0 lags the voltage V 1’ by 90 degrees.  \\n• The power factor of the load is leading. Therefore current I 2 is drawn le ading E 2 \\n• The resistance and the leakage reactance of the windings result in a voltage drop, and hence secondary terminal \\nvoltage V 2 is the phasor difference of E 2 and voltage drop.  \\nV2 = E 2 – voltage drops  \\nI2 R2 is in phase with I 2 and I 2X2 is in quadrature  with I 2. \\n• Current I 1’ is drawn equal and opposite to the current I 2 '),\n",
       " Document(metadata={'source': 'transformer.pdf', 'page': 16}, page_content='• The total current I 1 flowing in the primary winding is the phasor sum of I 1’ and I 0. \\n• Primary applied voltage V 1 is the phasor sum of V 1’ and the voltage drop in the primary winding.  \\nV1 = V1’ + voltage drop  \\nI1R1 is in phase with I 1 and I 1XI is in quadrature with I 1. \\n• The phasor difference between V 1 and I 1 gives the power factor angle ϕ 1 of the primary side of the transformer.  \\n• The power factor of the secondary side depends upon the type of l oad connected to the transformer.  \\nThis is all about the phasor diagram on various loads.  \\n \\n \\nPhasor Diagram of the Transformer on Capacitive Load  \\n \\n \\n')]"
      ]
     },
     "execution_count": 2,
     "metadata": {},
     "output_type": "execute_result"
    }
   ],
   "source": [
    "data"
   ]
  },
  {
   "cell_type": "code",
   "execution_count": 3,
   "id": "a374eb7c-e262-42bb-8f3f-308ba7dcdbe4",
   "metadata": {},
   "outputs": [
    {
     "data": {
      "text/plain": [
       "17"
      ]
     },
     "execution_count": 3,
     "metadata": {},
     "output_type": "execute_result"
    }
   ],
   "source": [
    "len(data)"
   ]
  },
  {
   "cell_type": "code",
   "execution_count": 4,
   "id": "29633e3b-ff24-4ace-a09b-c03b6e28c5cc",
   "metadata": {},
   "outputs": [
    {
     "name": "stdout",
     "output_type": "stream",
     "text": [
      "Total number of documents:  37\n"
     ]
    }
   ],
   "source": [
    "from langchain.text_splitter import RecursiveCharacterTextSplitter\n",
    "\n",
    "# split data\n",
    "text_splitter = RecursiveCharacterTextSplitter(chunk_size=1000)\n",
    "docs = text_splitter.split_documents(data)\n",
    "\n",
    "\n",
    "print(\"Total number of documents: \",len(docs))"
   ]
  },
  {
   "cell_type": "code",
   "execution_count": 5,
   "id": "100b7d1a-1209-49d4-99ed-c51bc233a938",
   "metadata": {},
   "outputs": [
    {
     "data": {
      "text/plain": [
       "Document(metadata={'source': 'transformer.pdf', 'page': 0}, page_content='Transformer   \\nelectrical  transformer  is a static  electrical  machine  which transforms electrical power from one circuit to \\nanother circuit, without changing the frequency. Transformer can increase or decrease the voltage with \\ncorresponding decrease or increase in current.  \\nWorking principle of transformer  \\n \\n The basic  principle  behind  working  of a transformer  is the phenomenon of mutual induction between two \\nwindings linked by common magnetic flux. The figure at right shows the simplest form of a transformer. \\nBasically a transformer consists of two inductive coils; primary winding and secondary winding. The coils are \\nelectrically separated but magnetically linked to ea ch other. When, primary winding is connected to a source of \\nalternating voltage, alternating  magnetic  flux is produced  around  the winding . The core provides magnetic  path \\nfor the flux, to get linked with the secondary winding. Most of the flux gets linked with the secondary winding')"
      ]
     },
     "execution_count": 5,
     "metadata": {},
     "output_type": "execute_result"
    }
   ],
   "source": [
    "docs[0]"
   ]
  },
  {
   "cell_type": "markdown",
   "id": "b62c5113",
   "metadata": {},
   "source": [
    "# Get an API key: \n",
    "\n",
    " https://ai.google.dev/gemini-api/docs/api-key to generate a Google AI API key. Paste in .env file\n",
    "\n",
    " Embedding models: https://python.langchain.com/docs/integrations/text_embedding/google_generative_ai/"
   ]
  },
  {
   "cell_type": "code",
   "execution_count": null,
   "id": "1073ab7f-2632-4367-8dec-c19449d6ce71",
   "metadata": {},
   "outputs": [
    {
     "name": "stderr",
     "output_type": "stream",
     "text": [
      "c:\\Users\\HP\\anaconda3\\envs\\ten\\lib\\site-packages\\tqdm\\auto.py:21: TqdmWarning: IProgress not found. Please update jupyter and ipywidgets. See https://ipywidgets.readthedocs.io/en/stable/user_install.html\n",
      "  from .autonotebook import tqdm as notebook_tqdm\n"
     ]
    },
    {
     "data": {
      "text/plain": [
       "[0.05168594419956207,\n",
       " -0.030764883384108543,\n",
       " -0.03062233328819275,\n",
       " -0.02802734263241291,\n",
       " 0.01813093200325966]"
      ]
     },
     "execution_count": 6,
     "metadata": {},
     "output_type": "execute_result"
    }
   ],
   "source": [
    "from langchain_chroma import Chroma\n",
    "from langchain_google_genai import GoogleGenerativeAIEmbeddings # Embedding Model\n",
    "\n",
    "from dotenv import load_dotenv\n",
    "load_dotenv() \n",
    "\n",
    "# Chunking\n",
    "\n",
    "embeddings = GoogleGenerativeAIEmbeddings(model=\"models/embedding-001\")\n",
    "vector = embeddings.embed_query(\"hello, world!\")\n",
    "vector[:5]\n",
    "# 5 vector"
   ]
  },
  {
   "cell_type": "code",
   "execution_count": 7,
   "id": "688b6e6a-d8ab-41fb-a665-b72c9c9b4026",
   "metadata": {},
   "outputs": [],
   "source": [
    "vectorstore = Chroma.from_documents(documents=docs, embedding=GoogleGenerativeAIEmbeddings(model=\"models/embedding-001\"))"
   ]
  },
  {
   "cell_type": "code",
   "execution_count": 11,
   "id": "2c674c5c-1b57-42e9-a99d-9e882c75da2d",
   "metadata": {},
   "outputs": [],
   "source": [
    "retriever = vectorstore.as_retriever(search_type=\"similarity\", search_kwargs={\"k\": 10})\n",
    "\n",
    "retrieved_docs = retriever.invoke(\"What are the types of transformers\")\n"
   ]
  },
  {
   "cell_type": "code",
   "execution_count": 12,
   "id": "04c5c6bb-fd0e-45ec-b315-e3f7656e0329",
   "metadata": {},
   "outputs": [
    {
     "data": {
      "text/plain": [
       "10"
      ]
     },
     "execution_count": 12,
     "metadata": {},
     "output_type": "execute_result"
    }
   ],
   "source": [
    "len(retrieved_docs)"
   ]
  },
  {
   "cell_type": "code",
   "execution_count": 13,
   "id": "bf21d394",
   "metadata": {},
   "outputs": [
    {
     "data": {
      "text/plain": [
       "[Document(metadata={'page': 2, 'source': 'transformer.pdf'}, page_content='(ii) Shell type transformer  \\nThe coils are former wound and mounted in layers stacked with insulation between them. A shell type \\ntransformer may have simple rectangu lar form (as shown in above fig), or   it may have a distributed form.  \\n \\n(B) On the basis of their purpose  \\n1. Step up transformer: Voltage increases (with subsequent decrease in current) at secondary.  \\n2. Step down transformer: Voltage decreases (with subsequent increase in current) at secondary.  \\n \\n(C) On the basis of type of supply  \\n1. Single phase transformer  \\n2. Three phase transformer  \\n3.  \\n(D) On the basis of their use  \\n1. Power transformer: Used in  transmission  network , high rating  \\n2. Distribution transformer: Used in  distribution  network , comparatively lower rating than that of power \\ntransformers.  \\n3. Instrument transformer: Used in relay and protection purpose in different instrume nts in industries  \\n▪  Current transformer (CT)  \\n▪ Potential transformer (PT)  \\n▪'),\n",
       " Document(metadata={'page': 1, 'source': 'transformer.pdf'}, page_content='at joints, laminatio ns are stacked by alternating the sides of joint. That is, if joints of first sheet assembly are at \\nfront face, the joints of following assemble are kept at back face.  \\n \\n \\nTypes of transformers  \\nTransformers can be classified on different basis, like types of construction, types of cooling etc.  \\n \\n(A) On the basis  of construction , transformers can be classified into two types as;  \\n(i) Core type transformer and (ii) Shell type transformer, which are described below.  \\n \\n(i) Core type transformer  \\nIn core typ e transformer, windings are cylindrical former wound, mounted on   the core limbs as shown in the \\nfigure above. The cylindrical coils have different layers and each layer is insulated from each other. Materials \\nlike paper, cloth or mica can be used for insu lation. Low voltage windings are placed nearer to the core, as they \\nare easier to insulate.'),\n",
       " Document(metadata={'page': 2, 'source': 'transformer.pdf'}, page_content=\"transformers.  \\n3. Instrument transformer: Used in relay and protection purpose in different instrume nts in industries  \\n▪  Current transformer (CT)  \\n▪ Potential transformer (PT)  \\n▪  \\nOpen circuit and Short circuit Test on transformer  \\nThese two  transformer  tests are performed to find the parameters of  equivalent  circui t of transformer  and losses  \\nof the transformer . Open  circuit  test and short  circuit  test on transformer  are very economical and convenient \\nbecause they are perfor med without actually loading of the transformer.  \\n \\nOpen circuit or No load test on Transformer  \\n \\nOpen circuit test or no load test on a transformer is performed to determine 'no load loss (core loss)' and 'no load \\ncurrent I 0'. The  circuit  diagram  for open  circuit  test is shown in the figure below.  \\n \\nUsually high voltage (HV) winding is kept open and the low voltage (LV) winding is connected to its normal\"),\n",
       " Document(metadata={'page': 0, 'source': 'transformer.pdf'}, page_content='Transformer   \\nelectrical  transformer  is a static  electrical  machine  which transforms electrical power from one circuit to \\nanother circuit, without changing the frequency. Transformer can increase or decrease the voltage with \\ncorresponding decrease or increase in current.  \\nWorking principle of transformer  \\n \\n The basic  principle  behind  working  of a transformer  is the phenomenon of mutual induction between two \\nwindings linked by common magnetic flux. The figure at right shows the simplest form of a transformer. \\nBasically a transformer consists of two inductive coils; primary winding and secondary winding. The coils are \\nelectrically separated but magnetically linked to ea ch other. When, primary winding is connected to a source of \\nalternating voltage, alternating  magnetic  flux is produced  around  the winding . The core provides magnetic  path \\nfor the flux, to get linked with the secondary winding. Most of the flux gets linked with the secondary winding'),\n",
       " Document(metadata={'page': 8, 'source': 'transformer.pdf'}, page_content='For an  ideal  transformer  on no load, E 1 = V 1 and E 2 = V 2 . \\nwhere, V 1 = supply voltage of primary winding  \\n            V2 = terminal voltage of secondary winding  \\nVoltage Transformation Ratio (K)  \\nAs derived above,  \\n \\nWhere, K = constant  \\nThis constant K is known as  voltage  transformation  ratio . \\n \\n▪ If N 2 > N 1, i.e. K > 1, then the transformer is called step -up transformer.  \\n▪ If N 2 < N 1, i.e. K < 1, then the transformer is called step -down transformer.  \\n▪  \\nEquivalent circuit of Transformer  \\n \\nn a practical  transformer  - \\n(a) Some  leakage  flux is present at both primary and seco ndary sides. This leakage gives rise to leakage \\nreactances at both sides, which are denoted as X 1 and X 2 respectively.  \\n(b) Both the primary and secondary winding possesses resistance, denoted as R 1 and R 2 respectively. These \\nresistances causes  voltage drop as, I 1R1 and I 2R2 and also  copper  loss I12R1 and I 22R2.'),\n",
       " Document(metadata={'page': 6, 'source': 'transformer.pdf'}, page_content='considerable only when transformers are loaded. Thus, for such transformers copper losses are relatively less \\nimportant.   The performance of such transformers is compared on the basis of energy consumed in one day.  \\n \\nAll day efficiency  of a transformer  is always less than ordinary efficiency of it  \\nEMF equation of a transformer and Voltage Transformation Ratio  \\n \\nIn a transf ormer , source of alternating current is applied to the primary winding. Due to this, the current in the \\nprimary winding (called as magnetizing current) produces alternating flux in the core of transformer. This \\nalternating flux gets linked with the secondary winding, and because of the phenomenon of  mutual  induction  an \\nemf gets induced in the secondary winding. Magnitude of this induced emf can be found by using the \\nfollowing  EMF  equation  of the transformer . \\nEMF equation of the Transformer  \\nLet, \\nN1 = Number of turns in primary winding  \\nN2 = Number of turns in secondary winding'),\n",
       " Document(metadata={'page': 0, 'source': 'transformer.pdf'}, page_content='Basic construction of transformer  \\nBasically a transformer consists of two inductive windings and a laminated steel core. The coils are insulated \\nfrom each other as well as from  the steel core. A transformer may also consist of a container for winding and \\ncore assembly (called as tank), suitable bushings to take our the terminals, oil conservator to provide oil in the \\ntransformer tank for cooling purposes etc. The figure at left illustrates the basic construction of a transformer.  \\n In all types of transformers, core is constructed by assembling (stacking) laminated sheets of steel, with \\nminimum air -gap between them (to achieve continuous magnetic path). The steel used is having hi gh silicon \\ncontent and sometimes heat treated, to provide high permeability and low hysteresis loss. Laminated sheets of \\nsteel are used to reduce eddy current loss. The sheets are cut in the shape as E,I and L. To avoid high reluctance'),\n",
       " Document(metadata={'page': 4, 'source': 'transformer.pdf'}, page_content=\"resistance and reactance of the transformer.  \\n \\nWhy Transformers are rated in kVA?  \\nFrom the above transformer tests, it can be seen that  Cu loss of a transformer  depends on current, and \\niron loss depends on voltage. Thus, total transformer loss depends on volt -ampere (VA). It does not \\ndepend on the p hase angle between voltage and current, i.e. transformer loss is independent of load \\npower factor. This is the  reason  that transformers  are rated  in kVA . \\nLosses in transformer  \\n \\nIn any  electrical  machine , 'loss' can be defined as the difference between input power and output power. \\nAn electrical  transformer  is an static  device , hence mechanical losses (like windage or friction losses) are absent \\nin it. A transformer only consists of electrical losses (iron losses and copper losses). Transformer losses are \\nsimilar to  losses  in a DC machine , except that transformers do not have mechanical losses.  \\nLosses  in transformer  are explained below -\"),\n",
       " Document(metadata={'page': 0, 'source': 'transformer.pdf'}, page_content=\"for the flux, to get linked with the secondary winding. Most of the flux gets linked with the secondary winding \\nwhich is called as 'useful flux' or main 'flux', and the flux which does not get linked with secondary winding is \\ncalled as 'leakage flux' .  As the flux produced is alternating (the direction of it is continuously changing), EMF \\ngets induced in the secondary winding according to  Faraday's  law of electrom agnetic  induction . This emf is \\ncalled 'mutually induced emf', and the frequency of mutually induced emf is same as that of supplied emf. If the \\nsecondary winding is closed circuit, then mutually induced current flows through it, and hence the electrical \\nenergy is transferred from one circuit (primary) to another circuit (secondary).  \\n \\nBasic construction of transformer  \\nBasically a transformer consists of two inductive windings and a laminated steel core. The coils are insulated\"),\n",
       " Document(metadata={'page': 10, 'source': 'transformer.pdf'}, page_content=\"Now, let R 1 + R 2' = R'eq   and X 1 + X 2' = X'eq  \\nThen the  equivalent  circuit  of transformer  becomes as shown in the figure below  \\n \\nApproximate equivalent circuit of transformer  \\nIf only voltage regulation is to be calculated, then even the whole excitation branch (parallel combination of R0 \\nand X0) can be neglected. Then the equivalent circuit becomes as shown in the figure below  \\n \\nTransformer on No Load Condition  \\nWhen the transformer is operating at no load, the secondary winding i s open -circuited, which means there is no \\nload on the secondary side of the transformer and, therefore, current in the secondary will be zero. While \\nprimary winding carries a small current I 0 called no -load current which is  2 to 10% of the rated current . \\nThis current is responsible for supplying the iron losses (hysteresis and eddy current losses) in the core and a \\nvery small amount of copper losses in the primary winding. The angle of lag depends upon the losses in the\")]"
      ]
     },
     "execution_count": 13,
     "metadata": {},
     "output_type": "execute_result"
    }
   ],
   "source": [
    "retrieved_docs"
   ]
  },
  {
   "cell_type": "code",
   "execution_count": 16,
   "id": "8a1c8321-1efd-4a11-9744-0d1a7c6f4e0a",
   "metadata": {},
   "outputs": [
    {
     "name": "stdout",
     "output_type": "stream",
     "text": [
      "at joints, laminatio ns are stacked by alternating the sides of joint. That is, if joints of first sheet assembly are at \n",
      "front face, the joints of following assemble are kept at back face.  \n",
      " \n",
      " \n",
      "Types of transformers  \n",
      "Transformers can be classified on different basis, like types of construction, types of cooling etc.  \n",
      " \n",
      "(A) On the basis  of construction , transformers can be classified into two types as;  \n",
      "(i) Core type transformer and (ii) Shell type transformer, which are described below.  \n",
      " \n",
      "(i) Core type transformer  \n",
      "In core typ e transformer, windings are cylindrical former wound, mounted on   the core limbs as shown in the \n",
      "figure above. The cylindrical coils have different layers and each layer is insulated from each other. Materials \n",
      "like paper, cloth or mica can be used for insu lation. Low voltage windings are placed nearer to the core, as they \n",
      "are easier to insulate.\n"
     ]
    }
   ],
   "source": [
    "print(retrieved_docs[1].page_content)"
   ]
  },
  {
   "cell_type": "code",
   "execution_count": 25,
   "id": "7f991a1f-6ce9-4463-9941-b35014df94f6",
   "metadata": {},
   "outputs": [],
   "source": [
    "from langchain_google_genai import ChatGoogleGenerativeAI\n",
    "\n",
    "llm = ChatGoogleGenerativeAI(model=\"gemini-1.5-pro-002\",temperature=0.3, max_tokens=500)"
   ]
  },
  {
   "cell_type": "code",
   "execution_count": 29,
   "id": "6ee17439-7bc3-4931-9f57-4ec7e82ce902",
   "metadata": {},
   "outputs": [],
   "source": [
    "from langchain.chains import create_retrieval_chain\n",
    "from langchain.chains.combine_documents import create_stuff_documents_chain\n",
    "from langchain_core.prompts import ChatPromptTemplate\n",
    "\n",
    "system_prompt = (\n",
    "    \"You are an assistant for question-answering tasks. \"\n",
    "    \"Use the following pieces of retrieved context to answer \"\n",
    "    \"the question. If you don't know the answer, say that you \"\n",
    "    \"don't know. Use three sentences maximum and keep the \"\n",
    "    \"answer in bullet format\"\n",
    "    \"\\n\\n\"\n",
    "    \"{context}\"\n",
    ")\n",
    "\n",
    "prompt = ChatPromptTemplate.from_messages(\n",
    "    [\n",
    "        (\"system\", system_prompt),\n",
    "        (\"human\", \"{input}\"),\n",
    "    ]\n",
    ")"
   ]
  },
  {
   "cell_type": "code",
   "execution_count": 30,
   "id": "266e86e0-746b-4943-9470-fd842633ed85",
   "metadata": {},
   "outputs": [],
   "source": [
    "question_answer_chain = create_stuff_documents_chain(llm, prompt)\n",
    "rag_chain = create_retrieval_chain(retriever, question_answer_chain)"
   ]
  },
  {
   "cell_type": "code",
   "execution_count": 31,
   "id": "9db9500d-4c51-4a10-9b21-f1ef9c8f985e",
   "metadata": {},
   "outputs": [
    {
     "name": "stdout",
     "output_type": "stream",
     "text": [
      "* Transformers can be classified based on construction (core type and shell type).\n",
      "* They can also be classified based on their purpose (step-up and step-down).\n",
      "* Other classifications include the type of supply (single-phase and three-phase) and their use (power, distribution, and instrument transformers).\n",
      "\n"
     ]
    }
   ],
   "source": [
    "response = rag_chain.invoke({\"input\": \"What are the types of transformers\"})\n",
    "print(response[\"answer\"])"
   ]
  },
  {
   "cell_type": "code",
   "execution_count": null,
   "id": "7cff65d0-2436-47f8-8572-6979a3378701",
   "metadata": {},
   "outputs": [],
   "source": []
  }
 ],
 "metadata": {
  "kernelspec": {
   "display_name": "ten",
   "language": "python",
   "name": "python3"
  },
  "language_info": {
   "codemirror_mode": {
    "name": "ipython",
    "version": 3
   },
   "file_extension": ".py",
   "mimetype": "text/x-python",
   "name": "python",
   "nbconvert_exporter": "python",
   "pygments_lexer": "ipython3",
   "version": "3.10.15"
  }
 },
 "nbformat": 4,
 "nbformat_minor": 5
}
